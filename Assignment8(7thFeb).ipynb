{
 "cells": [
  {
   "cell_type": "code",
   "execution_count": 3,
   "metadata": {},
   "outputs": [],
   "source": [
    "def val_password(passw):\n",
    "    l, u, p, d = 0, 0, 0, 0\n",
    "\n",
    "    capitalalphabets=\"ABCDEFGHIJKLMNOPQRSTUVWXYZ\"\n",
    "\n",
    "    smallalphabets=\"abcdefghijklmnopqrstuvwxyz\"\n",
    "\n",
    "    specialchar=\"$@_%*&,#\"\n",
    "\n",
    "    digits=\"0123456789\"\n",
    "\n",
    "    if (len(passw) >= 10    ):\n",
    "\n",
    "        for i in passw:\n",
    "\n",
    "            if (i in smallalphabets):\n",
    "\n",
    "                l+=1           \n",
    "\n",
    "            if (i in capitalalphabets):\n",
    "\n",
    "                u+=1           \n",
    " \n",
    "            if (i in digits):\n",
    "\n",
    "                d+=1           \n",
    "\n",
    "            if(i in specialchar):\n",
    "\n",
    "                p+=1       \n",
    "\n",
    "    if (l>1 and u>1 and p>2 and d>=1 and l+p+u+d==len(passw)):\n",
    "\n",
    "        print(\"Valid Password\")\n",
    "\n",
    "    else:\n",
    "\n",
    "        print(\"Invalid Password\")"
   ]
  },
  {
   "cell_type": "code",
   "execution_count": 7,
   "metadata": {},
   "outputs": [
    {
     "name": "stdout",
     "output_type": "stream",
     "text": [
      "Valid Password\n"
     ]
    }
   ],
   "source": [
    "val_password(\"PApa@3#$Pa\")"
   ]
  },
  {
   "cell_type": "code",
   "execution_count": 20,
   "metadata": {},
   "outputs": [
    {
     "data": {
      "text/plain": [
       "True"
      ]
     },
     "execution_count": 20,
     "metadata": {},
     "output_type": "execute_result"
    }
   ],
   "source": [
    "x = \"Python\"\n",
    "start_with = lambda x:True if x.startswith(\"P\") else False\n",
    "start_with(x)\n"
   ]
  },
  {
   "cell_type": "code",
   "execution_count": 23,
   "metadata": {},
   "outputs": [
    {
     "data": {
      "text/plain": [
       "False"
      ]
     },
     "execution_count": 23,
     "metadata": {},
     "output_type": "execute_result"
    }
   ],
   "source": [
    "y = 'Welcome'\n",
    "start_with(y)"
   ]
  },
  {
   "cell_type": "code",
   "execution_count": 21,
   "metadata": {},
   "outputs": [
    {
     "data": {
      "text/plain": [
       "True"
      ]
     },
     "execution_count": 21,
     "metadata": {},
     "output_type": "execute_result"
    }
   ],
   "source": [
    "x = \"123645\"\n",
    "y=\"1h3u3\"\n",
    "numeric = lambda x:True if x.isnumeric() else False\n",
    "numeric(x)\n"
   ]
  },
  {
   "cell_type": "code",
   "execution_count": 22,
   "metadata": {},
   "outputs": [
    {
     "data": {
      "text/plain": [
       "False"
      ]
     },
     "execution_count": 22,
     "metadata": {},
     "output_type": "execute_result"
    }
   ],
   "source": [
    "numeric(y)"
   ]
  },
  {
   "cell_type": "code",
   "execution_count": 41,
   "metadata": {},
   "outputs": [
    {
     "name": "stdout",
     "output_type": "stream",
     "text": [
      "[('orange', 80), ('mango', 99), ('grapes', 1000)]\n"
     ]
    }
   ],
   "source": [
    "l = [('mango',99),('orange',80),('grapes',1000)]\n",
    "\n",
    "l.sort(key=lambda x:x[1])\n",
    "print(l)"
   ]
  },
  {
   "cell_type": "code",
   "execution_count": 42,
   "metadata": {},
   "outputs": [
    {
     "name": "stdout",
     "output_type": "stream",
     "text": [
      "[1, 4, 9, 16, 25, 36, 49, 64, 81, 100]\n"
     ]
    }
   ],
   "source": [
    "l1=list(map(lambda x:x**2, range(1,11)))\n",
    "print(l1)"
   ]
  },
  {
   "cell_type": "code",
   "execution_count": 43,
   "metadata": {},
   "outputs": [
    {
     "name": "stdout",
     "output_type": "stream",
     "text": [
      "[1, 8, 27, 64, 125, 216, 343, 512, 729, 1000]\n"
     ]
    }
   ],
   "source": [
    "l2=list(map(lambda x:x**3, range(1,11)))\n",
    "print(l2)"
   ]
  },
  {
   "cell_type": "code",
   "execution_count": 46,
   "metadata": {},
   "outputs": [
    {
     "data": {
      "text/plain": [
       "True"
      ]
     },
     "execution_count": 46,
     "metadata": {},
     "output_type": "execute_result"
    }
   ],
   "source": [
    "even_no = lambda x:True if x%2==0 else False\n",
    "even_no(150)"
   ]
  },
  {
   "cell_type": "code",
   "execution_count": 47,
   "metadata": {},
   "outputs": [
    {
     "data": {
      "text/plain": [
       "False"
      ]
     },
     "execution_count": 47,
     "metadata": {},
     "output_type": "execute_result"
    }
   ],
   "source": [
    "even_no(3045)"
   ]
  },
  {
   "cell_type": "code",
   "execution_count": 55,
   "metadata": {},
   "outputs": [
    {
     "name": "stdout",
     "output_type": "stream",
     "text": [
      "[1, 3, 5, 7, 9]\n"
     ]
    }
   ],
   "source": [
    "l3=[1,2,3,4,5,6,7,8,9,10]\n",
    "\n",
    "odd_num=list(filter(lambda x:x%2==1,l3))\n",
    "print(odd_num)"
   ]
  },
  {
   "cell_type": "code",
   "execution_count": 59,
   "metadata": {},
   "outputs": [
    {
     "name": "stdout",
     "output_type": "stream",
     "text": [
      "[-1, -2, -3, -4, -5] \n",
      " [1, 2, 3, 4, 5, 6, 0]\n"
     ]
    }
   ],
   "source": [
    "l4=[1,2,3,4,5,6,-1,-2,-3,-4,-5,0]\n",
    "l_pos=[i for i in l4 if i>=0]\n",
    "l_neg=[i for i in l4 if i<0]\n",
    "print(l_neg,'\\n',l_pos)\n"
   ]
  },
  {
   "cell_type": "code",
   "execution_count": null,
   "metadata": {},
   "outputs": [],
   "source": []
  }
 ],
 "metadata": {
  "kernelspec": {
   "display_name": "base",
   "language": "python",
   "name": "python3"
  },
  "language_info": {
   "codemirror_mode": {
    "name": "ipython",
    "version": 3
   },
   "file_extension": ".py",
   "mimetype": "text/x-python",
   "name": "python",
   "nbconvert_exporter": "python",
   "pygments_lexer": "ipython3",
   "version": "3.9.7"
  },
  "orig_nbformat": 4,
  "vscode": {
   "interpreter": {
    "hash": "28b7effe5ccc81e21cf0397dbbd5475d9349b1634a5346be97f748188368bf6c"
   }
  }
 },
 "nbformat": 4,
 "nbformat_minor": 2
}
