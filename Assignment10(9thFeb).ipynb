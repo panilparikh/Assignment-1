{
 "cells": [
  {
   "cell_type": "code",
   "execution_count": 14,
   "metadata": {},
   "outputs": [
    {
     "data": {
      "text/plain": [
       "('Jupyter', 90, 45)"
      ]
     },
     "execution_count": 14,
     "metadata": {},
     "output_type": "execute_result"
    }
   ],
   "source": [
    "class vehicle:\n",
    "\n",
    "    def __init__(self,name_of_vehicle,max_speed,avarege_of_vehicle):\n",
    "\n",
    "        self.name = name_of_vehicle\n",
    "        self.speed = max_speed\n",
    "        self.average = avarege_of_vehicle\n",
    "    \n",
    "    def getInfo(self):\n",
    "        return self.name , self.speed , self.average\n",
    "    \n",
    "a = vehicle('Jupyter',90,45)\n",
    "a.getInfo()"
   ]
  },
  {
   "cell_type": "code",
   "execution_count": 15,
   "metadata": {},
   "outputs": [
    {
     "data": {
      "text/plain": [
       "('BMW', 5)"
      ]
     },
     "execution_count": 15,
     "metadata": {},
     "output_type": "execute_result"
    }
   ],
   "source": [
    "class car(vehicle):\n",
    "    def seating_capacity(self,capacity):\n",
    "        self.capacity = capacity\n",
    "        return self.name , self.capacity\n",
    "    \n",
    "b = car(\"BMW\",250,20)\n",
    "b.seating_capacity(5)"
   ]
  },
  {
   "cell_type": "code",
   "execution_count": null,
   "metadata": {},
   "outputs": [],
   "source": [
    "When a class is derived from more than one base class it is called multiple Inheritance.\n",
    "And the child class inherits all the features of the base class.\n",
    "\n",
    "Example is below:"
   ]
  },
  {
   "cell_type": "code",
   "execution_count": 20,
   "metadata": {},
   "outputs": [
    {
     "name": "stdout",
     "output_type": "stream",
     "text": [
      "In c1\n",
      "In c2\n"
     ]
    }
   ],
   "source": [
    "class c1:\n",
    "    def a(self):\n",
    "        print('In c1')\n",
    "class c2:\n",
    "    def b(self):\n",
    "        print('In c2')\n",
    "class c3(c1,c2):\n",
    "    pass\n",
    "\n",
    "obj = c3()\n",
    "obj.a()\n",
    "obj.b()\n"
   ]
  },
  {
   "cell_type": "code",
   "execution_count": null,
   "metadata": {},
   "outputs": [],
   "source": [
    "Getters and setters are used to protect your data, particularly when creating classes. \n",
    "\n",
    "For each instance variable, a getter method returns its value while a setter method sets or updates its value. \n",
    "\n",
    "Getters and setters are also known as accessors and mutators, respectively."
   ]
  },
  {
   "cell_type": "code",
   "execution_count": 31,
   "metadata": {},
   "outputs": [
    {
     "name": "stdout",
     "output_type": "stream",
     "text": [
      "setter method called\n",
      "getter method called\n",
      "19\n"
     ]
    }
   ],
   "source": [
    "class panil:\n",
    "    def __init__(self):\n",
    "        self.__age = 0\n",
    "    \n",
    "    @property\n",
    "    def age(self):\n",
    "        print(\"getter method called\")\n",
    "        return self.__age\n",
    "       \n",
    "    \n",
    "    @age.setter\n",
    "    def age(self, a):\n",
    "        if(a < 18):\n",
    "            raise ValueError(\"Sorry you age is below eligibility criteria\")\n",
    "        print(\"setter method called\")\n",
    "        self.__age = a\n",
    "  \n",
    "obj = panil()\n",
    "  \n",
    "obj.age = 19\n",
    "  \n",
    "print(obj.age)"
   ]
  },
  {
   "cell_type": "code",
   "execution_count": null,
   "metadata": {},
   "outputs": [],
   "source": [
    "When a method in a subclass has the same name, same parameters or signature \n",
    "and same return type as a method in its super-class, \n",
    "then the method in the subclass is said to override the method in the super-class.\n",
    "\n",
    "Example is below:"
   ]
  },
  {
   "cell_type": "code",
   "execution_count": 41,
   "metadata": {},
   "outputs": [
    {
     "name": "stdout",
     "output_type": "stream",
     "text": [
      "Inside Parent\n",
      "Inside Child\n"
     ]
    }
   ],
   "source": [
    "class Parent():\n",
    "\t\n",
    "\t\n",
    "\tdef __init__(self):\n",
    "\t\tself.value = \"Inside Parent\"\n",
    "\t\t\n",
    "\t\n",
    "\tdef show(self):\n",
    "\t\tprint(self.value)\n",
    "\t\t\n",
    "\n",
    "class Child(Parent):\n",
    "\t\n",
    "\t\n",
    "\tdef __init__(self):\n",
    "\t\tself.value = \"Inside Child\"\n",
    "\t\t\n",
    "\t\n",
    "\tdef show(self):\n",
    "\t\tprint(self.value)\n",
    "\t\t\n",
    "\t\t\n",
    "\n",
    "obj1 = Parent()\n",
    "obj2 = Child()\n",
    "\n",
    "obj1.show()\n",
    "obj2.show()\n"
   ]
  },
  {
   "cell_type": "code",
   "execution_count": null,
   "metadata": {},
   "outputs": [],
   "source": []
  }
 ],
 "metadata": {
  "kernelspec": {
   "display_name": "base",
   "language": "python",
   "name": "python3"
  },
  "language_info": {
   "codemirror_mode": {
    "name": "ipython",
    "version": 3
   },
   "file_extension": ".py",
   "mimetype": "text/x-python",
   "name": "python",
   "nbconvert_exporter": "python",
   "pygments_lexer": "ipython3",
   "version": "3.9.7"
  },
  "orig_nbformat": 4,
  "vscode": {
   "interpreter": {
    "hash": "28b7effe5ccc81e21cf0397dbbd5475d9349b1634a5346be97f748188368bf6c"
   }
  }
 },
 "nbformat": 4,
 "nbformat_minor": 2
}
