{
 "cells": [
  {
   "cell_type": "code",
   "execution_count": 10,
   "metadata": {},
   "outputs": [
    {
     "name": "stdout",
     "output_type": "stream",
     "text": [
      "[1, 2, 3, 4, 44, 55, 66, True, False, 34, 56, 78, 89, 34, 1, 2, 3, 1, 'key2', 4, 34, 55, 67, 78, 89, 45, 22, 61, 34, 56, 'data science', 'Machine Learning']\n",
      "Product of numbers =  4134711838987085478833841242112000\n"
     ]
    }
   ],
   "source": [
    "list1 = [1,2,3,4, [44,55,66, True], False, (34,56,78,89,34), {1,2,3,3,2,1}, {1:34, \"key2\": [55, 67, 78, 89], 4: (45,\n",
    "22, 61, 34)}, [56, 'data science'], 'Machine Learning']\n",
    "\n",
    "def product(l):\n",
    "    flatlist=[]\n",
    "\n",
    "    for el in l:\n",
    "        if type(el)==list or type(el)==tuple or type(el)==set:\n",
    "            for items in el:\n",
    "                flatlist.append(items)\n",
    "        elif type(el)==dict:\n",
    "            a=el.keys()\n",
    "            b=el.values()\n",
    "            for i in a:\n",
    "                flatlist.append(i)\n",
    "            for j in b:\n",
    "                if type(j)==list or type(j)==tuple or type(j)==set:\n",
    "                    for k in j:\n",
    "                        flatlist.append(k)\n",
    "                else:\n",
    "                    flatlist.append(j)\n",
    "        else:\n",
    "            flatlist.append(el)\n",
    "\n",
    "    print(flatlist)\n",
    "\n",
    "    mul=1\n",
    "    for m in flatlist:\n",
    "        if type(m)==int or type(m)==float:\n",
    "            mul*=m \n",
    "    print(\"Product of numbers = \",mul)\n",
    "\n",
    "product(list1)"
   ]
  },
  {
   "cell_type": "code",
   "execution_count": 12,
   "metadata": {},
   "outputs": [
    {
     "name": "stdout",
     "output_type": "stream",
     "text": [
      "Encrypted_Message :  r$dzmg$gl$yvxlnv$z$wzgz$hxrvmgrhg.\n"
     ]
    }
   ],
   "source": [
    "sentence=\"I want to become a Data Scientist.\"\n",
    "encryptmsg=\"\"\n",
    "s=sentence.lower()\n",
    "\n",
    "for i in s:\n",
    "    if i == \" \":\n",
    "        encryptmsg+=\"$\"\n",
    "    elif i.isalpha():\n",
    "        encryptmsg+=chr(ord(\"z\")-ord(i)+ord(\"a\"))\n",
    "    else:\n",
    "        encryptmsg+=i\n",
    "print(\"Encrypted_Message : \",encryptmsg)"
   ]
  },
  {
   "cell_type": "code",
   "execution_count": null,
   "metadata": {},
   "outputs": [],
   "source": []
  }
 ],
 "metadata": {
  "kernelspec": {
   "display_name": "base",
   "language": "python",
   "name": "python3"
  },
  "language_info": {
   "codemirror_mode": {
    "name": "ipython",
    "version": 3
   },
   "file_extension": ".py",
   "mimetype": "text/x-python",
   "name": "python",
   "nbconvert_exporter": "python",
   "pygments_lexer": "ipython3",
   "version": "3.9.7"
  },
  "orig_nbformat": 4,
  "vscode": {
   "interpreter": {
    "hash": "28b7effe5ccc81e21cf0397dbbd5475d9349b1634a5346be97f748188368bf6c"
   }
  }
 },
 "nbformat": 4,
 "nbformat_minor": 2
}
