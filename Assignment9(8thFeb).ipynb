{
 "cells": [
  {
   "attachments": {},
   "cell_type": "markdown",
   "metadata": {},
   "source": [
    "Abstraction in python is defined as a process of handling complexity \n",
    "by hiding unnecessary information from the user. \n",
    "\n",
    "Objects are the building blocks of Object-Oriented Programming. \n",
    "\n",
    "An object contains some properties and methods. \n",
    "\n",
    "We can hide them from the outer world through access modifiers. \n",
    "\n",
    "We can provide access only for required functions and properties to the other programs.\n",
    "\n",
    "This is the general procedure to implement abstraction in OOPS.\n",
    "\n",
    "Example is below:"
   ]
  },
  {
   "cell_type": "code",
   "execution_count": 2,
   "metadata": {},
   "outputs": [
    {
     "name": "stdout",
     "output_type": "stream",
     "text": [
      "Triangle has 3 sides\n",
      "I have 4 sides\n",
      "Pentagon has 5 sides\n",
      "Hexagon has 6 sides\n"
     ]
    }
   ],
   "source": [
    " \n",
    "class Polygon:   \n",
    "   # abstract method   \n",
    "   def sides(self):   \n",
    "      pass  \n",
    "  \n",
    "class Triangle(Polygon):   \n",
    "    def sides(self):\n",
    "        print(\"Triangle has 3 sides\")   \n",
    "  \n",
    "class Pentagon(Polygon):   \n",
    "  \n",
    "     \n",
    "   def sides(self):   \n",
    "        print(\"Pentagon has 5 sides\")   \n",
    "  \n",
    "class Hexagon(Polygon):   \n",
    "  \n",
    "   def sides(self):   \n",
    "        print(\"Hexagon has 6 sides\")   \n",
    "  \n",
    "class square(Polygon):   \n",
    "  \n",
    "   def sides(self):   \n",
    "        print(\"I have 4 sides\")   \n",
    "  \n",
    "t = Triangle()   \n",
    "t.sides()   \n",
    "  \n",
    "s = square()   \n",
    "s.sides()   \n",
    "  \n",
    "p = Pentagon()   \n",
    "p.sides()   \n",
    "  \n",
    "k = Hexagon()   \n",
    "k.sides()  "
   ]
  },
  {
   "attachments": {},
   "cell_type": "markdown",
   "metadata": {},
   "source": [
    "Abstraction is hiding the details and implementation of the code.\n",
    "Encapsulation is hiding the data and controlling the visibility of the code.\n",
    "\n",
    "\n",
    "Abstraction is a design level process.\n",
    "Encapsulation is an implementation level process.\n",
    "\n",
    "\n",
    "Abstraction is concerned about what a class instance can do, instead of the implementation of the class.\n",
    "Encapsulation helps in data binding and control over maintaining the transparency of the data.\n",
    "\n",
    "\n",
    "Abstraction is a design level process and it is used to reduce the complexity at the designing stage of a project.\n",
    "Encapsulation is an implementation level process, and it is used to provide privacy and maintain control over the transparency of data at the implementation stage of a project.\n",
    "\n",
    "\n",
    "Abstraction mainly focuses on what must be done, whereas encapsulation mainly focuses on how it must be done. \n",
    "\n",
    "example is below:\n"
   ]
  },
  {
   "cell_type": "code",
   "execution_count": 5,
   "metadata": {},
   "outputs": [
    {
     "name": "stdout",
     "output_type": "stream",
     "text": [
      "Panil Parikh\n",
      "Kapadwanj,Gujarat,India 7th July 2003 7600733003\n",
      "Indian Python Programming B+\n"
     ]
    }
   ],
   "source": [
    "class Person:\n",
    "    def __init__(self):\n",
    "        self.name = \"Panil Parikh\"\n",
    "\n",
    "    def bio(self):\n",
    "        self.addr = \"Kapadwanj,Gujarat,India\"\n",
    "        self.birthdate = \"7th July 2003\"\n",
    "        self.contact = \"7600733003\"\n",
    "        print(self.addr, self.birthdate, self.contact)\n",
    "\n",
    "    def interest(self):\n",
    "        self.favFood = \"Indian\"\n",
    "        self.hobbies = \"Python Programming\"\n",
    "        self.bloodGroup = \"B+\"\n",
    "        print(self.favFood, self.hobbies, self.bloodGroup)\n",
    "\n",
    "obj = Person()\n",
    "print(obj.name)\n",
    "obj.bio()\n",
    "obj.interest()"
   ]
  },
  {
   "attachments": {},
   "cell_type": "markdown",
   "metadata": {},
   "source": [
    "abc module is \"Abstract Base Class\" in python.\n",
    "\n",
    "An abstract base class is a class that is used as a blueprint for other classes. \n",
    "Abstract base classes are a powerful feature in Python since they help you define a blueprint for other classes that may have something in common."
   ]
  },
  {
   "attachments": {},
   "cell_type": "markdown",
   "metadata": {},
   "source": [
    "In Python, abstraction can be achieved by using abstract classes and interfaces.\n",
    "\n",
    "A class that consists of one or more abstract method is called the abstract class. \n",
    "\n",
    "Abstract methods do not contain their implementation. \n",
    "\n",
    "Abstract class can be inherited by the subclass and abstract method gets its definition in the subclass. \n",
    "\n",
    "Abstraction classes are meant to be the blueprint of the other class. An abstract class can be useful when we are designing large functions. \n",
    "\n",
    "An abstract class is also helpful to provide the standard interface for different implementations of components. \n",
    "\n",
    "Python provides the abc module to use the abstraction in the Python program. \n"
   ]
  },
  {
   "attachments": {},
   "cell_type": "markdown",
   "metadata": {},
   "source": [
    "We cannot create an instance or object of an abstract class in Python.\n",
    "\n",
    "Because abstract classes are not complete, as they may have some methods that are not defined.\n",
    "\n",
    "So it is not possible to create an instace of an abstract class."
   ]
  }
 ],
 "metadata": {
  "kernelspec": {
   "display_name": "base",
   "language": "python",
   "name": "python3"
  },
  "language_info": {
   "codemirror_mode": {
    "name": "ipython",
    "version": 3
   },
   "file_extension": ".py",
   "mimetype": "text/x-python",
   "name": "python",
   "nbconvert_exporter": "python",
   "pygments_lexer": "ipython3",
   "version": "3.9.7"
  },
  "orig_nbformat": 4,
  "vscode": {
   "interpreter": {
    "hash": "28b7effe5ccc81e21cf0397dbbd5475d9349b1634a5346be97f748188368bf6c"
   }
  }
 },
 "nbformat": 4,
 "nbformat_minor": 2
}
