{
 "cells": [
  {
   "cell_type": "code",
   "execution_count": null,
   "id": "82a287ee-08dd-4382-a713-c9f9cd40509e",
   "metadata": {},
   "outputs": [],
   "source": [
    "'def' keyword is used to create a function."
   ]
  },
  {
   "cell_type": "code",
   "execution_count": 1,
   "id": "452fc620-1e38-4b6c-921c-126347b3dd29",
   "metadata": {},
   "outputs": [],
   "source": [
    "def oddnum():\n",
    "    l=list(range(1,26))\n",
    "    l1=[]\n",
    "    for i in l:\n",
    "        if i%2==1:\n",
    "            l1.append(i)\n",
    "    return l1"
   ]
  },
  {
   "cell_type": "code",
   "execution_count": 2,
   "id": "38d838ed-eeef-47dd-8fe0-6189006dbed4",
   "metadata": {},
   "outputs": [
    {
     "data": {
      "text/plain": [
       "[1, 3, 5, 7, 9, 11, 13, 15, 17, 19, 21, 23, 25]"
      ]
     },
     "execution_count": 2,
     "metadata": {},
     "output_type": "execute_result"
    }
   ],
   "source": [
    "oddnum()"
   ]
  },
  {
   "cell_type": "code",
   "execution_count": null,
   "id": "20ead772-3c36-4441-ad24-34ddbe5b3e33",
   "metadata": {},
   "outputs": [],
   "source": [
    "We can use *args and **kwargs as arguments of a function \n",
    "when we are unsure about the number of arguments to pass in the functions.\n",
    "*args is used to get linear list.\n",
    "**kwargs is used to get key value pair in form of dictionary.\n",
    "It is not mandatoray to use only args or kwargs name,\n",
    "We can use any name instead of args and kwargs.\n",
    "That's not the problem.\n",
    "Examples are below..."
   ]
  },
  {
   "cell_type": "code",
   "execution_count": 4,
   "id": "b9fe2c3e-7b53-4e83-aae7-ada4bf403348",
   "metadata": {},
   "outputs": [],
   "source": [
    "def test1(*args):\n",
    "    return args"
   ]
  },
  {
   "cell_type": "code",
   "execution_count": 5,
   "id": "c5af880c-d6aa-4403-9ebb-633d60fba4e6",
   "metadata": {},
   "outputs": [],
   "source": [
    "def test2(**kwargs):\n",
    "    return kwargs"
   ]
  },
  {
   "cell_type": "code",
   "execution_count": 6,
   "id": "b707c0ee-149b-45f2-80a6-bf8ba99b5a1d",
   "metadata": {},
   "outputs": [
    {
     "data": {
      "text/plain": [
       "(1, 2, 3, 'Panil')"
      ]
     },
     "execution_count": 6,
     "metadata": {},
     "output_type": "execute_result"
    }
   ],
   "source": [
    "test1(1,2,3,'Panil')"
   ]
  },
  {
   "cell_type": "code",
   "execution_count": 7,
   "id": "0d71a649-fdf7-4c28-8042-652d10e7c846",
   "metadata": {},
   "outputs": [
    {
     "data": {
      "text/plain": [
       "{'a': 'Panil', 'b': 351, 'c': 'panil9839@gmaul.com'}"
      ]
     },
     "execution_count": 7,
     "metadata": {},
     "output_type": "execute_result"
    }
   ],
   "source": [
    "test2(a='Panil',b=351,c='panil9839@gmaul.com')"
   ]
  },
  {
   "cell_type": "code",
   "execution_count": null,
   "id": "d0cf50b2-38f1-4637-80fb-14fd93d74dfd",
   "metadata": {},
   "outputs": [],
   "source": [
    "Iterator in Python is an object that is used to iterate over iterable objects \n",
    "like lists, tuples, dicts, and sets.\n",
    "The iterator object is initialized using the iter() method. \n",
    "It uses the next() method for iteration.\n",
    "Example is below:"
   ]
  },
  {
   "cell_type": "code",
   "execution_count": 3,
   "id": "be8c1b23-a633-426e-8d68-2ff77a25ace5",
   "metadata": {},
   "outputs": [
    {
     "name": "stdout",
     "output_type": "stream",
     "text": [
      "2\n",
      "4\n",
      "6\n",
      "8\n",
      "10\n"
     ]
    }
   ],
   "source": [
    "l = [2, 4, 6, 8, 10, 12, 14, 16, 18, 20]\n",
    "\n",
    "iter1 = iter(l)\n",
    "\n",
    "i = 0\n",
    "while i < 5:\n",
    "    print(next(iter1))\n",
    "    i+=1"
   ]
  },
  {
   "cell_type": "code",
   "execution_count": null,
   "id": "32e87c0c-42b9-405c-87cc-54704344fef3",
   "metadata": {},
   "outputs": [],
   "source": [
    "Generator functions allow you to declare a function that behaves likes an iterator, \n",
    "allowing programmers to make an iterator in a fast, easy, and clean way.\n",
    "yield keyword is used to create a generator function.\n",
    "Example is below:"
   ]
  },
  {
   "cell_type": "code",
   "execution_count": 8,
   "id": "48eabd0a-dde1-40ee-8370-b4176b5fcbc2",
   "metadata": {},
   "outputs": [],
   "source": [
    "def count(n):\n",
    "    a = 1\n",
    "    \n",
    "    while a <= n :\n",
    "        yield a\n",
    "        a += 1\n",
    "    "
   ]
  },
  {
   "cell_type": "code",
   "execution_count": 9,
   "id": "ea33f3ec-d0ea-4f3b-be37-7308776ead60",
   "metadata": {},
   "outputs": [],
   "source": [
    "c = count(5)"
   ]
  },
  {
   "cell_type": "code",
   "execution_count": 10,
   "id": "6fa68b73-ef6b-48c4-8204-eedd4b593296",
   "metadata": {},
   "outputs": [
    {
     "name": "stdout",
     "output_type": "stream",
     "text": [
      "1\n",
      "2\n",
      "3\n",
      "4\n",
      "5\n"
     ]
    }
   ],
   "source": [
    "for i in c :\n",
    "    print(i)"
   ]
  },
  {
   "cell_type": "code",
   "execution_count": 34,
   "id": "e5d68cda-ddca-4482-9a80-53192658fd8b",
   "metadata": {},
   "outputs": [],
   "source": [
    "def primeNum():\n",
    "    \n",
    "    l1=[]\n",
    "    \n",
    "    for n in range(2,1000):\n",
    "        \n",
    "        flag = False\n",
    "        \n",
    "        for i in range(2,n):\n",
    "\n",
    "            if (n%i) == 0:\n",
    "                \n",
    "                flag = True\n",
    "                break\n",
    "                \n",
    "            else:\n",
    "                \n",
    "                i+=1\n",
    "                \n",
    "        if (flag == False):\n",
    "            \n",
    "            l1.append(n)\n",
    "    \n",
    "    iter2=iter(l1)\n",
    "    \n",
    "    for i in range(20):\n",
    "        \n",
    "        print(next(iter2))"
   ]
  },
  {
   "cell_type": "code",
   "execution_count": 35,
   "id": "115495ec-f79d-4b7d-9bbb-6da61c41acc6",
   "metadata": {},
   "outputs": [
    {
     "name": "stdout",
     "output_type": "stream",
     "text": [
      "2\n",
      "3\n",
      "5\n",
      "7\n",
      "11\n",
      "13\n",
      "17\n",
      "19\n",
      "23\n",
      "29\n",
      "31\n",
      "37\n",
      "41\n",
      "43\n",
      "47\n",
      "53\n",
      "59\n",
      "61\n",
      "67\n",
      "71\n"
     ]
    }
   ],
   "source": [
    "primeNum()"
   ]
  },
  {
   "cell_type": "code",
   "execution_count": 37,
   "id": "98ca939b-4b0b-474a-bc5c-373920c203a4",
   "metadata": {},
   "outputs": [
    {
     "name": "stdout",
     "output_type": "stream",
     "text": [
      "0\n",
      "1\n",
      "1\n",
      "2\n",
      "3\n",
      "5\n",
      "8\n",
      "13\n",
      "21\n",
      "34\n"
     ]
    }
   ],
   "source": [
    "a , b = 0 , 1\n",
    "i = 0\n",
    "while i < 10:\n",
    "    \n",
    "    print(a)\n",
    "    a , b= b , a+b\n",
    "    i += 1"
   ]
  },
  {
   "cell_type": "code",
   "execution_count": 39,
   "id": "4063055e-9a09-4412-81bf-10315db80ca7",
   "metadata": {},
   "outputs": [
    {
     "data": {
      "text/plain": [
       "['p', 'w', 's', 'k', 'i', 'l', 'l', 's']"
      ]
     },
     "execution_count": 39,
     "metadata": {},
     "output_type": "execute_result"
    }
   ],
   "source": [
    "string = 'pwskills'\n",
    "[i for i in string]"
   ]
  },
  {
   "cell_type": "code",
   "execution_count": 43,
   "id": "341a5b40-9995-41d8-ab13-6dd5e6704f0f",
   "metadata": {},
   "outputs": [
    {
     "name": "stdin",
     "output_type": "stream",
     "text": [
      "Enter number: 1221\n"
     ]
    },
    {
     "name": "stdout",
     "output_type": "stream",
     "text": [
      "1221  is a Panlindrome Number!:)\n"
     ]
    }
   ],
   "source": [
    "n =  int(input(\"Enter number:\"))\n",
    "\n",
    "temp = n\n",
    "\n",
    "rev = 0\n",
    "\n",
    "while n > 0 :\n",
    "\n",
    "    dig = n % 10\n",
    "    rev = (rev * 10) + dig\n",
    "    n = n // 10\n",
    "    \n",
    "if rev == temp :\n",
    "\n",
    "    print(temp,\" is a Panlindrome Number!:)\")\n",
    "    \n",
    "else :\n",
    "    \n",
    "    print(temp,\" is not a Panlindrome Number!:(\")"
   ]
  },
  {
   "cell_type": "code",
   "execution_count": 49,
   "id": "3f233354-eafd-4a1d-a140-833fa254d8e3",
   "metadata": {},
   "outputs": [
    {
     "data": {
      "text/plain": [
       "[1,\n",
       " 3,\n",
       " 5,\n",
       " 7,\n",
       " 9,\n",
       " 11,\n",
       " 13,\n",
       " 15,\n",
       " 17,\n",
       " 19,\n",
       " 21,\n",
       " 23,\n",
       " 25,\n",
       " 27,\n",
       " 29,\n",
       " 31,\n",
       " 33,\n",
       " 35,\n",
       " 37,\n",
       " 39,\n",
       " 41,\n",
       " 43,\n",
       " 45,\n",
       " 47,\n",
       " 49,\n",
       " 51,\n",
       " 53,\n",
       " 55,\n",
       " 57,\n",
       " 59,\n",
       " 61,\n",
       " 63,\n",
       " 65,\n",
       " 67,\n",
       " 69,\n",
       " 71,\n",
       " 73,\n",
       " 75,\n",
       " 77,\n",
       " 79,\n",
       " 81,\n",
       " 83,\n",
       " 85,\n",
       " 87,\n",
       " 89,\n",
       " 91,\n",
       " 93,\n",
       " 95,\n",
       " 97,\n",
       " 99]"
      ]
     },
     "execution_count": 49,
     "metadata": {},
     "output_type": "execute_result"
    }
   ],
   "source": [
    "l1 = list(i for i in range(1,101))\n",
    "\n",
    "list(filter(lambda a : a % 2 == 1 , l1))"
   ]
  },
  {
   "cell_type": "code",
   "execution_count": null,
   "id": "ff0256dc-dda9-4dec-8f0d-05399d3db9eb",
   "metadata": {},
   "outputs": [],
   "source": []
  }
 ],
 "metadata": {
  "kernelspec": {
   "display_name": "Python 3 (ipykernel)",
   "language": "python",
   "name": "python3"
  },
  "language_info": {
   "codemirror_mode": {
    "name": "ipython",
    "version": 3
   },
   "file_extension": ".py",
   "mimetype": "text/x-python",
   "name": "python",
   "nbconvert_exporter": "python",
   "pygments_lexer": "ipython3",
   "version": "3.10.8"
  }
 },
 "nbformat": 4,
 "nbformat_minor": 5
}
