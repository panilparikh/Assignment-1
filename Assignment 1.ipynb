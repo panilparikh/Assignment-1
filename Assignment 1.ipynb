{
 "cells": [
  {
   "cell_type": "code",
   "execution_count": null,
   "id": "c7faacf8-fbe0-4151-8c9c-75d22cbf692c",
   "metadata": {},
   "outputs": [],
   "source": [
    "Python Programming Language developed by \"Guido van Rossum\"."
   ]
  },
  {
   "cell_type": "code",
   "execution_count": null,
   "id": "0bedd501-3a6b-43f7-b380-e56322f7e74c",
   "metadata": {},
   "outputs": [],
   "source": [
    "Python is an interpreted programming language.\n",
    "Pyhton supports object - oriented, structured and functional programming."
   ]
  },
  {
   "cell_type": "code",
   "execution_count": null,
   "id": "1c73ffe8-7ee2-45a7-95cf-45aeef1f6f89",
   "metadata": {},
   "outputs": [],
   "source": [
    "Yes, Python is a case-sensitive language."
   ]
  },
  {
   "cell_type": "code",
   "execution_count": null,
   "id": "40acb635-51f1-45f4-b170-a29990ea847b",
   "metadata": {},
   "outputs": [],
   "source": [
    "'.py' is coorect extention for python file."
   ]
  },
  {
   "cell_type": "code",
   "execution_count": null,
   "id": "1afa73d2-841c-4d67-a221-c104069e3cb1",
   "metadata": {},
   "outputs": [],
   "source": [
    "Python programs are both compiled as well as interpreted, but the compilation part is hidden from the programmer."
   ]
  },
  {
   "cell_type": "code",
   "execution_count": null,
   "id": "7b6d0f06-74df-47e8-b481-50337a408869",
   "metadata": {},
   "outputs": [],
   "source": [
    "Indentation is used to define a block of code in python."
   ]
  },
  {
   "cell_type": "code",
   "execution_count": null,
   "id": "eba2aebb-4551-40dc-b84a-6c9ab4f3e285",
   "metadata": {},
   "outputs": [],
   "source": [
    "Character which is used to give single line comment in python is '#'."
   ]
  },
  {
   "cell_type": "code",
   "execution_count": null,
   "id": "f57c6fab-240a-4dbb-a174-6b9c0b2334bd",
   "metadata": {},
   "outputs": [],
   "source": [
    "To check which Python version is running, you can use either the function 'sys.version' or the platform module. "
   ]
  },
  {
   "cell_type": "code",
   "execution_count": null,
   "id": "a28a44e1-a46e-4bfd-af01-78def9e4f857",
   "metadata": {},
   "outputs": [],
   "source": [
    "Python supports the creation of anonymous functions at runtime, using a construct called \"lambda\"."
   ]
  },
  {
   "cell_type": "code",
   "execution_count": null,
   "id": "03054c04-7a8a-44ed-a5fc-5813323ff2d8",
   "metadata": {},
   "outputs": [],
   "source": [
    "PIP stands for \"Preferred Installer Program\" in Python."
   ]
  },
  {
   "cell_type": "code",
   "execution_count": null,
   "id": "0354e9e9-83b2-4dba-9af0-1c1236d5bdbd",
   "metadata": {},
   "outputs": [],
   "source": [
    "Following are some built-in functions in Python:\n",
    "    1. print()\n",
    "    2. input()\n",
    "    3. type()\n",
    "    4. float()\n",
    "    5. int()\n",
    "    6. str()\n",
    "    7. abs()\n",
    "    8. list()\n",
    "    9. len()\n",
    "    10. pop()\n",
    "    11. insert()\n",
    "    12. count()\n",
    "    13. index()\n",
    "    14. find()\n",
    "    15. upper()\n",
    "    16. append()\n",
    "    17. extend()\n",
    "    18. remove()\n",
    "    19. get()\n",
    "    20. item()\n",
    "    21.upper()\n",
    "    "
   ]
  },
  {
   "cell_type": "code",
   "execution_count": null,
   "id": "f6cc769b-3868-4584-acfd-440a628f9262",
   "metadata": {},
   "outputs": [],
   "source": [
    " An identifier can have a maximum length of 79 characters in Python."
   ]
  },
  {
   "cell_type": "code",
   "execution_count": null,
   "id": "35032414-357e-4d1a-897b-af81149dea89",
   "metadata": {},
   "outputs": [],
   "source": [
    "Following are some of the advantages of python:\n",
    "    1.Easy to Learn and Use\n",
    "    2.Mature and Supportive Python Community\n",
    "    3.Hundreds of Python Libraries and Frameworks\n",
    "    4.Versatility, Efficiency, Reliability, and Speed\n",
    "    5.Big data, Machine Learning and Cloud Computing\n",
    "    6.The Flexibility of Python Language\n",
    "    7.It is interpreted"
   ]
  },
  {
   "cell_type": "code",
   "execution_count": null,
   "id": "67bd8b2c-fd80-47eb-a7e7-93ff9ea19cd0",
   "metadata": {},
   "outputs": [],
   "source": [
    "Python uses a portion of the memory for internal use and non-object memory.\n",
    "Another part of the memory is used for Python object such as int, dict, list, etc.\n",
    "The object allocator gets a call every time the new object needs space."
   ]
  },
  {
   "cell_type": "code",
   "execution_count": null,
   "id": "f226ac10-62a1-42ba-8125-150a3f6cdad3",
   "metadata": {},
   "outputs": [],
   "source": [
    "1.Right-clicking This PC and going to Properties.\n",
    "2.Clicking on the Advanced system settings in the menu on the left.\n",
    "3.Clicking on the Environment Variables button on the bottom right.\n",
    "4(i).In the System variables section, selecting the Path variable and clicking on Edit. \n",
    "4(ii).The next screen will show all the directories that are currently a part of the PATH variable.\n",
    "5.Clicking on New and entering Python’s install directory."
   ]
  },
  {
   "cell_type": "code",
   "execution_count": null,
   "id": "cd1b7233-cfde-4fbc-9ebb-699a5c6729cb",
   "metadata": {},
   "outputs": [],
   "source": [
    "Yes, the indentation in Python is 'very important'."
   ]
  }
 ],
 "metadata": {
  "kernelspec": {
   "display_name": "Python 3 (ipykernel)",
   "language": "python",
   "name": "python3"
  },
  "language_info": {
   "codemirror_mode": {
    "name": "ipython",
    "version": 3
   },
   "file_extension": ".py",
   "mimetype": "text/x-python",
   "name": "python",
   "nbconvert_exporter": "python",
   "pygments_lexer": "ipython3",
   "version": "3.10.8"
  }
 },
 "nbformat": 4,
 "nbformat_minor": 5
}
