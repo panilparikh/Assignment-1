{
 "cells": [
  {
   "cell_type": "code",
   "execution_count": null,
   "id": "38f46eab-3263-4ca4-9c51-ad36463e1dd8",
   "metadata": {
    "tags": []
   },
   "outputs": [],
   "source": [
    "You can use while loop to run the same task multiple times and for loops to loop once over list data.\n",
    "Use for loop when number of iteration is known.\n",
    "Use while loop number of iterations is unknown and the statement will run until the condition is proved false.\n",
    "Examples are below:"
   ]
  },
  {
   "cell_type": "code",
   "execution_count": 1,
   "id": "b9dd5309-1f50-4e4b-9d5f-80f41dbabfaa",
   "metadata": {},
   "outputs": [
    {
     "name": "stdout",
     "output_type": "stream",
     "text": [
      "1\n",
      "2\n",
      "3\n",
      "4\n",
      "5\n"
     ]
    }
   ],
   "source": [
    "i=1\n",
    "n=5\n",
    "while i<=n:\n",
    "    print(i)\n",
    "    i+=1"
   ]
  },
  {
   "cell_type": "code",
   "execution_count": 2,
   "id": "0daa967a-942b-4099-a8c6-810b849b48bf",
   "metadata": {},
   "outputs": [
    {
     "name": "stdout",
     "output_type": "stream",
     "text": [
      "apple\n",
      "mango\n",
      "banana\n"
     ]
    }
   ],
   "source": [
    "fruits=['apple','mango','banana']\n",
    "for i in fruits:\n",
    "    print(i)"
   ]
  },
  {
   "cell_type": "code",
   "execution_count": 12,
   "id": "486147cf-4a03-4d8c-ada9-e6720a8a658f",
   "metadata": {},
   "outputs": [
    {
     "name": "stdout",
     "output_type": "stream",
     "text": [
      "55\n",
      "3628800\n"
     ]
    }
   ],
   "source": [
    "sum=0\n",
    "mul=1\n",
    "for i in range(1,11):\n",
    "    sum+=i\n",
    "    mul*=i\n",
    "print(sum)\n",
    "print(mul)"
   ]
  },
  {
   "cell_type": "code",
   "execution_count": 13,
   "id": "c9f90cb8-c065-44b2-9ef7-7f73298dcb51",
   "metadata": {},
   "outputs": [
    {
     "name": "stdout",
     "output_type": "stream",
     "text": [
      "55\n",
      "3628800\n"
     ]
    }
   ],
   "source": [
    "sum=0\n",
    "mul=1\n",
    "i=1\n",
    "while i<11:\n",
    "    sum+=i\n",
    "    mul*=i\n",
    "    i+=1\n",
    "print(sum)\n",
    "print(mul)"
   ]
  },
  {
   "cell_type": "code",
   "execution_count": 17,
   "id": "c6c2a532-a585-437b-ae18-a13ea860c684",
   "metadata": {},
   "outputs": [
    {
     "name": "stdin",
     "output_type": "stream",
     "text": [
      "Enter the units of electricity consumed in a month 310\n"
     ]
    },
    {
     "name": "stdout",
     "output_type": "stream",
     "text": [
      "2250.0\n"
     ]
    }
   ],
   "source": [
    "unit=int(input(\"Enter the units of electricity consumed in a month\"))\n",
    "\n",
    "if unit>0 and unit<=100:\n",
    "    print(unit*4.5)\n",
    "    \n",
    "elif unit>0 and unit<=200:\n",
    "    print((100*4.5)+\n",
    "          ((unit-100)*6))\n",
    "    \n",
    "elif unit>0 and unit<=300:\n",
    "    print((100*4.5)+\n",
    "          (100*6)+\n",
    "          ((unit-200)*10))\n",
    "    \n",
    "elif unit>300:\n",
    "    print((100*4.5)\n",
    "         +(100*6)\n",
    "         +(100*10)\n",
    "         +((unit-300)*20))"
   ]
  },
  {
   "cell_type": "code",
   "execution_count": 3,
   "id": "273840a5-a8af-4c20-82ad-387e381b4512",
   "metadata": {},
   "outputs": [
    {
     "name": "stdout",
     "output_type": "stream",
     "text": [
      "[2, 4, 5, 6, 8, 10, 12, 14, 15, 16, 18, 20, 22, 24, 25, 26, 28, 30, 32, 34, 35, 36, 38, 40, 42, 44, 45, 46, 48, 50, 52, 54, 55, 56, 58, 60, 62, 64, 65, 66, 68, 70, 72, 74, 75, 76, 78, 80, 82, 84, 85, 86, 88, 90, 92, 94, 95, 96, 98, 100]\n"
     ]
    }
   ],
   "source": [
    "l=list(range(1,101))\n",
    "l1=[]\n",
    "for i in l:\n",
    "    if (i**3)%4==0 or (i**3)%5==0:\n",
    "        l1.append(i)\n",
    "print(l1)\n"
   ]
  },
  {
   "cell_type": "code",
   "execution_count": 7,
   "id": "bff43e0d-070f-41f4-89b5-dafda108837d",
   "metadata": {},
   "outputs": [
    {
     "name": "stdout",
     "output_type": "stream",
     "text": [
      "[2, 4, 5, 6, 8, 10, 12, 14, 15, 16, 18, 20, 22, 24, 25, 26, 28, 30, 32, 34, 35, 36, 38, 40, 42, 44, 45, 46, 48, 50, 52, 54, 55, 56, 58, 60, 62, 64, 65, 66, 68, 70, 72, 74, 75, 76, 78, 80, 82, 84, 85, 86, 88, 90, 92, 94, 95, 96, 98, 100]\n"
     ]
    }
   ],
   "source": [
    "i=1\n",
    "l1=[]\n",
    "while i<101:\n",
    "    if (i**3)%4==0 or (i**3)%5==0:\n",
    "        l1.append(i)\n",
    "    i+=1\n",
    "        \n",
    "print(l1)"
   ]
  },
  {
   "cell_type": "code",
   "execution_count": 27,
   "id": "b539e3d4-727f-401e-92d3-bea00bf26356",
   "metadata": {},
   "outputs": [
    {
     "name": "stdin",
     "output_type": "stream",
     "text": [
      "Enter string \"I want to become a data scientist\"\n"
     ]
    },
    {
     "name": "stdout",
     "output_type": "stream",
     "text": [
      "12\n"
     ]
    }
   ],
   "source": [
    "string = input(\"Enter string\")\n",
    "s=list(\"aeiouAEIOU\")\n",
    "count=0\n",
    "\n",
    "for i in string:\n",
    "    if i in s:\n",
    "        count+=1\n",
    "print(count)"
   ]
  },
  {
   "cell_type": "code",
   "execution_count": null,
   "id": "cc5c2790-085d-4166-b05f-00f28ac8d8bb",
   "metadata": {},
   "outputs": [],
   "source": []
  }
 ],
 "metadata": {
  "kernelspec": {
   "display_name": "Python 3 (ipykernel)",
   "language": "python",
   "name": "python3"
  },
  "language_info": {
   "codemirror_mode": {
    "name": "ipython",
    "version": 3
   },
   "file_extension": ".py",
   "mimetype": "text/x-python",
   "name": "python",
   "nbconvert_exporter": "python",
   "pygments_lexer": "ipython3",
   "version": "3.10.8"
  }
 },
 "nbformat": 4,
 "nbformat_minor": 5
}
