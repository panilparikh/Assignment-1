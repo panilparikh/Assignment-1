{
 "cells": [
  {
   "cell_type": "code",
   "execution_count": 1,
   "id": "befefc9b-0adf-4650-84dc-d0d2b05c4d78",
   "metadata": {},
   "outputs": [
    {
     "name": "stdin",
     "output_type": "stream",
     "text": [
      "Enter your marks 99\n"
     ]
    },
    {
     "name": "stdout",
     "output_type": "stream",
     "text": [
      "You got 'A' grade\n"
     ]
    }
   ],
   "source": [
    "marks = float(input(\"Enter your marks\"))\n",
    "\n",
    "if marks > 90 :\n",
    "    print(\"You got 'A' grade\")\n",
    "elif marks > 80 and marks <= 90 :\n",
    "    print(\"You got 'B' grade\")\n",
    "elif marks >= 60 and marks <= 80 :\n",
    "    print(\"You got 'C' grade\")\n",
    "else :\n",
    "    print(\"You got 'D' grade\")"
   ]
  },
  {
   "cell_type": "code",
   "execution_count": 13,
   "id": "3cc0739e-c1cd-4eb8-8612-a20fa7741af5",
   "metadata": {},
   "outputs": [
    {
     "name": "stdin",
     "output_type": "stream",
     "text": [
      "Enter the price of your bike(in Rs) 67800\n"
     ]
    },
    {
     "name": "stdout",
     "output_type": "stream",
     "text": [
      "You will have to pay 10% road TAX.\n"
     ]
    }
   ],
   "source": [
    "cp = float(input(\"Enter the price of your bike(in Rs)\"))\n",
    "\n",
    "if cp > 100000 :\n",
    "    print(\"You will have to pay 15% road TAX.\")\n",
    "elif cp > 50000 and cp <= 100000 :\n",
    "    print(\"You will have to pay 10% road TAX.\")\n",
    "else :\n",
    "    print(\"You will have to pay 5% road TAX.\")"
   ]
  },
  {
   "cell_type": "code",
   "execution_count": 1,
   "id": "82e0bbee-cc03-48df-85fe-9000ed83afd1",
   "metadata": {},
   "outputs": [
    {
     "name": "stdin",
     "output_type": "stream",
     "text": [
      "Enter the name of city delhi\n"
     ]
    },
    {
     "name": "stdout",
     "output_type": "stream",
     "text": [
      "'Red Fort' is the monument of Delhi\n"
     ]
    }
   ],
   "source": [
    "city = input(\"Enter the name of city\")\n",
    "\n",
    "if city == \"Delhi\" or city == \"delhi\" or city == \"DELHI\" :\n",
    "    print(\"'Red Fort' is the monument of Delhi\")\n",
    "elif city == \"Agra\" or city == \"agra\" or city == \"AGRA\" :\n",
    "    print(\"'Taj Mahal' is the monument of Agra\")\n",
    "elif city == \"Jaipur\" or city == \"jaipur\" or city == \"JAIPUR\" :\n",
    "    print(\"'Jal Mahal' is the monument of Jaipur\")\n",
    "else :\n",
    "    print(\"Data about the monument of '\",city,\"'is not available\")"
   ]
  },
  {
   "cell_type": "code",
   "execution_count": 1,
   "id": "90840a23-acbb-4604-be9e-eaf1cbcef8cd",
   "metadata": {},
   "outputs": [
    {
     "name": "stdout",
     "output_type": "stream",
     "text": [
      "hello\n"
     ]
    }
   ],
   "source": [
    "print('hello')"
   ]
  },
  {
   "cell_type": "code",
   "execution_count": 6,
   "id": "7ffc0180-b29f-4b2a-bb4a-db6a64d8926c",
   "metadata": {},
   "outputs": [
    {
     "name": "stdout",
     "output_type": "stream",
     "text": [
      "23.333333333333332\n"
     ]
    }
   ],
   "source": [
    " i=70/3\n",
    "print(i)"
   ]
  },
  {
   "cell_type": "code",
   "execution_count": 33,
   "id": "dad08fcb-ef54-41a1-81e1-3fa72ec733ee",
   "metadata": {},
   "outputs": [
    {
     "name": "stdin",
     "output_type": "stream",
     "text": [
      "Enter number greater than 10 : 243\n"
     ]
    },
    {
     "name": "stdout",
     "output_type": "stream",
     "text": [
      "2\n"
     ]
    }
   ],
   "source": [
    "num = int(input(\"Enter number greater than 10 :\"))\n",
    "counter=0\n",
    "while 1:\n",
    "    if num%3==0:\n",
    "        num/=3\n",
    "        if num>=10:\n",
    "            counter+=1\n",
    "        else:\n",
    "            break\n",
    "print(counter)"
   ]
  },
  {
   "cell_type": "code",
   "execution_count": null,
   "id": "adb8dff0-aa63-40a8-88a9-e92f71876b1d",
   "metadata": {},
   "outputs": [],
   "source": [
    "With the while loop we can execute a set of statements as long as a condition is true.\n",
    "We can use while loops to run the same task multiple times.\n",
    "Example is below,"
   ]
  },
  {
   "cell_type": "code",
   "execution_count": 34,
   "id": "7fadd226-603d-4d8a-af9d-a879d7cb5028",
   "metadata": {},
   "outputs": [
    {
     "name": "stdout",
     "output_type": "stream",
     "text": [
      "1\n",
      "2\n",
      "3\n",
      "4\n",
      "5\n"
     ]
    }
   ],
   "source": [
    "i=1\n",
    "n=5\n",
    "while i<=n:\n",
    "    print(i)\n",
    "    i+=1"
   ]
  },
  {
   "cell_type": "code",
   "execution_count": 48,
   "id": "b93e1279-01bb-401c-a0a4-31a29418b092",
   "metadata": {},
   "outputs": [
    {
     "name": "stdout",
     "output_type": "stream",
     "text": [
      "* \n",
      "* * \n",
      "* * * \n",
      "* * * * \n",
      "* * * * * \n"
     ]
    }
   ],
   "source": [
    "i=1\n",
    "while i<=5:\n",
    "    j=1\n",
    "    while j<=i:\n",
    "        print(\"*\",end=\" \")\n",
    "        j+=1\n",
    "    print(\"\")\n",
    "    i+=1"
   ]
  },
  {
   "cell_type": "code",
   "execution_count": 49,
   "id": "feac0f3d-9b0c-4dc0-b54f-8d1e96a2cece",
   "metadata": {},
   "outputs": [
    {
     "name": "stdout",
     "output_type": "stream",
     "text": [
      "* * * * * \n",
      "* * * * \n",
      "* * * \n",
      "* * \n",
      "* \n"
     ]
    }
   ],
   "source": [
    "i=1\n",
    "while i<=5:\n",
    "    j=5\n",
    "    while j>=i:\n",
    "        print(\"*\",end=' ')\n",
    "        j-=1\n",
    "    print('')\n",
    "    i+=1"
   ]
  },
  {
   "cell_type": "code",
   "execution_count": 47,
   "id": "d2776d1c-8ba4-41c7-ab65-3cd2dd5449f5",
   "metadata": {},
   "outputs": [
    {
     "name": "stdout",
     "output_type": "stream",
     "text": [
      "* \n",
      "* * \n",
      "* * * \n",
      "* * * * \n",
      "* * * * * \n",
      "* * * * * \n",
      "* * * * \n",
      "* * * \n",
      "* * \n",
      "* \n"
     ]
    }
   ],
   "source": [
    "i=1\n",
    "while i<=5:\n",
    "    j=1\n",
    "    while j<=i:\n",
    "        print(\"*\",end=\" \")\n",
    "        j+=1\n",
    "    print(\"\")\n",
    "    i+=1\n",
    "i=1\n",
    "while i<=5:\n",
    "    j=5\n",
    "    while j>=i:\n",
    "        print(\"*\",end=' ')\n",
    "        j-=1\n",
    "    print('')\n",
    "    i+=1"
   ]
  },
  {
   "cell_type": "code",
   "execution_count": 50,
   "id": "c3c28fac-ffd6-473c-baf4-0364a70730f9",
   "metadata": {},
   "outputs": [
    {
     "name": "stdout",
     "output_type": "stream",
     "text": [
      "1 \n",
      "1 2 \n",
      "1 2 3 \n",
      "1 2 3 4 \n",
      "1 2 3 4 5 \n"
     ]
    }
   ],
   "source": [
    "i=1\n",
    "while i<=5:\n",
    "    j=1\n",
    "    while j<=i:\n",
    "        print(j,end=' ')\n",
    "        j+=1\n",
    "    print('')\n",
    "    i+=1"
   ]
  },
  {
   "cell_type": "code",
   "execution_count": 51,
   "id": "eaf03743-5e97-432e-bc60-4225bc623e1b",
   "metadata": {},
   "outputs": [
    {
     "name": "stdout",
     "output_type": "stream",
     "text": [
      "5 4 3 2 1 \n",
      "5 4 3 2 \n",
      "5 4 3 \n",
      "5 4 \n",
      "5 \n"
     ]
    }
   ],
   "source": [
    "i=1\n",
    "while i<=5:\n",
    "    j=5\n",
    "    while j>=i:\n",
    "        print(j,end=' ')\n",
    "        j-=1\n",
    "    print('')\n",
    "    i+=1"
   ]
  },
  {
   "cell_type": "code",
   "execution_count": 54,
   "id": "ab2db65f-951f-4ae9-b04c-f559f7b100ed",
   "metadata": {},
   "outputs": [
    {
     "name": "stdout",
     "output_type": "stream",
     "text": [
      "1 \n",
      "1 2 \n",
      "1 2 3 \n",
      "1 2 3 4 \n",
      "1 2 3 4 5 \n",
      "5 4 3 2 1 \n",
      "5 4 3 2 \n",
      "5 4 3 \n",
      "5 4 \n",
      "5 \n"
     ]
    }
   ],
   "source": [
    "i=1\n",
    "while i<=5:\n",
    "    j=1\n",
    "    while j<=i:\n",
    "        print(j,end=' ')\n",
    "        j+=1\n",
    "    print('')\n",
    "    i+=1\n",
    "i=1\n",
    "while i<=5:\n",
    "    j=5\n",
    "    while j>=i:\n",
    "        print(j,end=' ')\n",
    "        j-=1\n",
    "    print('')\n",
    "    i+=1"
   ]
  },
  {
   "cell_type": "code",
   "execution_count": 55,
   "id": "a324348d-582a-4071-89d0-b69e45b67d38",
   "metadata": {},
   "outputs": [
    {
     "name": "stdout",
     "output_type": "stream",
     "text": [
      "10\n",
      "9\n",
      "8\n",
      "7\n",
      "6\n",
      "5\n",
      "4\n",
      "3\n",
      "2\n",
      "1\n"
     ]
    }
   ],
   "source": [
    "i=10\n",
    "while i>0:\n",
    "    print(i)\n",
    "    i-=1"
   ]
  },
  {
   "cell_type": "code",
   "execution_count": null,
   "id": "3b458b73-b409-4ef8-b24f-a3c55bdc9671",
   "metadata": {},
   "outputs": [],
   "source": []
  }
 ],
 "metadata": {
  "kernelspec": {
   "display_name": "Python 3 (ipykernel)",
   "language": "python",
   "name": "python3"
  },
  "language_info": {
   "codemirror_mode": {
    "name": "ipython",
    "version": 3
   },
   "file_extension": ".py",
   "mimetype": "text/x-python",
   "name": "python",
   "nbconvert_exporter": "python",
   "pygments_lexer": "ipython3",
   "version": "3.10.8"
  }
 },
 "nbformat": 4,
 "nbformat_minor": 5
}
