{
 "cells": [
  {
   "cell_type": "code",
   "execution_count": null,
   "id": "8dd089fd-056d-4192-a364-6089123ffec2",
   "metadata": {},
   "outputs": [],
   "source": [
    "Classes are user-defined data types that act as the blueprint for individual objects, attributes and methods.\n",
    "Objects are instances of a class created with specifically defined data.\n",
    "Objects can correspond to real-world objects or an abstract entity.\n",
    "Example is below:"
   ]
  },
  {
   "cell_type": "code",
   "execution_count": 25,
   "id": "026311d9-cc25-457b-9fe3-ea746b61d1b5",
   "metadata": {},
   "outputs": [],
   "source": [
    "#Class\n",
    "class maths:\n",
    "    def sum(self,a,b):\n",
    "        return a+b\n",
    "    "
   ]
  },
  {
   "cell_type": "code",
   "execution_count": 28,
   "id": "d1719d1d-01ce-42a5-a9d6-df9239a6860f",
   "metadata": {},
   "outputs": [],
   "source": [
    "#Maths class Object\n",
    "a1 = maths()"
   ]
  },
  {
   "cell_type": "code",
   "execution_count": 29,
   "id": "b31fcf1e-c230-4baa-a666-5448bfcfa26f",
   "metadata": {},
   "outputs": [
    {
     "data": {
      "text/plain": [
       "'panparag'"
      ]
     },
     "execution_count": 29,
     "metadata": {},
     "output_type": "execute_result"
    }
   ],
   "source": [
    "a1.sum('pan','parag')"
   ]
  },
  {
   "cell_type": "code",
   "execution_count": 30,
   "id": "af097c3c-6da2-4581-b484-ad735328ac43",
   "metadata": {},
   "outputs": [
    {
     "data": {
      "text/plain": [
       "30"
      ]
     },
     "execution_count": 30,
     "metadata": {},
     "output_type": "execute_result"
    }
   ],
   "source": [
    "a1.sum(10,20)"
   ]
  },
  {
   "cell_type": "code",
   "execution_count": null,
   "id": "db545c79-94d7-42b5-9985-d67659f6b006",
   "metadata": {},
   "outputs": [],
   "source": [
    "Four pillars of OOPS are,\n",
    "1.Inheritance, \n",
    "2.Polymorphism, \n",
    "3.Encapsulation,\n",
    "4.Abstraction"
   ]
  },
  {
   "cell_type": "code",
   "execution_count": null,
   "id": "32baf4a5-20f7-4009-a1b7-2d026646c7d5",
   "metadata": {},
   "outputs": [],
   "source": [
    "\"__init__\" is a reseved method in python classes. \n",
    "It is called as a constructor in object oriented terminology. \n",
    "This method is called when an object is created from a class and \n",
    "it allows the class to initialize the attributes of the class."
   ]
  },
  {
   "cell_type": "code",
   "execution_count": 37,
   "id": "e0dd4f8b-3efc-4115-aa38-4ae868f0ad8d",
   "metadata": {},
   "outputs": [],
   "source": [
    "class student:\n",
    "    \n",
    "    def __init__(self,name,email,sid):\n",
    "        \n",
    "        self.name = name\n",
    "        self.email = email\n",
    "        self.sid = sid\n",
    "        \n",
    "    def get_Details(self):\n",
    "        \n",
    "        return self.name , self.email , self.sid"
   ]
  },
  {
   "cell_type": "code",
   "execution_count": 38,
   "id": "454e1b5f-58a8-4d22-a5ec-f7ec2c1f68d8",
   "metadata": {},
   "outputs": [],
   "source": [
    "a2 = student(\"sohan\",\"sohan90@gmail.com\",\"90\")"
   ]
  },
  {
   "cell_type": "code",
   "execution_count": 39,
   "id": "6511672a-712c-4e0f-9524-fe94f26b67d3",
   "metadata": {},
   "outputs": [
    {
     "data": {
      "text/plain": [
       "('sohan', 'sohan90@gmail.com', '90')"
      ]
     },
     "execution_count": 39,
     "metadata": {},
     "output_type": "execute_result"
    }
   ],
   "source": [
    "a2.get_Details()"
   ]
  },
  {
   "cell_type": "code",
   "execution_count": null,
   "id": "b890815e-1db7-4416-9fb3-d10055296c7d",
   "metadata": {},
   "outputs": [],
   "source": [
    "\"self\" represents the instance of the class. \n",
    "By using the \"self\" we can access the attributes and methods of the class in python.\n",
    "It binds the attributes with the given arguments.\n",
    "\"self\" is always pointing to Current Object.\n",
    "\"self\" is always first parameter of the method."
   ]
  },
  {
   "cell_type": "code",
   "execution_count": null,
   "id": "f676580e-ff96-48c6-9783-f9251e1474a1",
   "metadata": {},
   "outputs": [],
   "source": [
    "Inheritance allows us to define a class that inherits all the methods and properties from another class.\n",
    "Parent class is the class being inherited from, also called base class.\n",
    "Child class is the class that inherits from another class, also called derived class."
   ]
  },
  {
   "cell_type": "markdown",
   "id": "7be74735-50d5-4651-b14d-5b1ee8ed7b54",
   "metadata": {},
   "source": [
    "#Single_Inheritance"
   ]
  },
  {
   "cell_type": "code",
   "execution_count": 68,
   "id": "b3df968c-d786-42bb-939f-cf02c1aaa605",
   "metadata": {},
   "outputs": [
    {
     "name": "stdout",
     "output_type": "stream",
     "text": [
      "Panil Parikh\n"
     ]
    }
   ],
   "source": [
    "#parent class\n",
    "class person:\n",
    "    \n",
    "    def __init__(self, fname, lname):\n",
    "        self.firstname = fname\n",
    "        self.lastname = lname\n",
    "        \n",
    "    def printname(self):\n",
    "        print(self.firstname, self.lastname)\n",
    "        \n",
    "#child class\n",
    "class Student(person):\n",
    "    pass\n",
    "\n",
    "\n",
    "x1 = Student(\"Panil\",\"Parikh\")\n",
    "x1.printname()"
   ]
  },
  {
   "cell_type": "markdown",
   "id": "db466c5e-b610-486c-8fe6-89256080dbd1",
   "metadata": {},
   "source": [
    "#MultipleInheritance"
   ]
  },
  {
   "cell_type": "code",
   "execution_count": 69,
   "id": "d3bb7153-f209-4184-93ce-ed0b6c59b982",
   "metadata": {},
   "outputs": [
    {
     "name": "stdout",
     "output_type": "stream",
     "text": [
      "30\n",
      "200\n",
      "0.5\n"
     ]
    }
   ],
   "source": [
    "#parent class1\n",
    "class Calculation1:  \n",
    "    \n",
    "    def Summation(self,a,b):  \n",
    "        return a+b;  \n",
    "    \n",
    "#parent class2\n",
    "class Calculation2:  \n",
    "    \n",
    "    def Multiplication(self,a,b):  \n",
    "        return a*b;  \n",
    "\n",
    "#child class\n",
    "class Derived(Calculation1,Calculation2):  \n",
    "    \n",
    "    def Divide(self,a,b):  \n",
    "        return a/b;  \n",
    "    \n",
    "d = Derived()  \n",
    "\n",
    "print(d.Summation(10,20))  \n",
    "print(d.Multiplication(10,20))  \n",
    "print(d.Divide(10,20))  "
   ]
  },
  {
   "cell_type": "markdown",
   "id": "b3cd4598-4cba-43fa-8f29-c54573d49315",
   "metadata": {},
   "source": [
    "#Multilevel Inheritance"
   ]
  },
  {
   "cell_type": "code",
   "execution_count": 70,
   "id": "bf8d2bc0-f8dc-4621-a082-5901225ec299",
   "metadata": {},
   "outputs": [
    {
     "name": "stdout",
     "output_type": "stream",
     "text": [
      "dog barking\n",
      "Animal Speaking\n",
      "Eating bread...\n"
     ]
    }
   ],
   "source": [
    "#parent class Animal\n",
    "class Animal:  \n",
    "    \n",
    "    def speak(self):  \n",
    "        print(\"Animal Speaking\") \n",
    "        \n",
    "#The child class Dog inherits the base class Animal  \n",
    "class Dog(Animal):\n",
    "    \n",
    "    def bark(self):  \n",
    "        print(\"dog barking\") \n",
    "        \n",
    "#The child class Dogchild inherits another child class Dog  \n",
    "class DogChild(Dog):  \n",
    "    \n",
    "    def eat(self):  \n",
    "        print(\"Eating bread...\")  \n",
    "        \n",
    "d = DogChild()  \n",
    "\n",
    "d.bark()  \n",
    "d.speak()  \n",
    "d.eat() "
   ]
  },
  {
   "cell_type": "markdown",
   "id": "6145119e-672e-4bd3-b0ce-c75606a4c7be",
   "metadata": {},
   "source": [
    "#Hierarchical Inheritance"
   ]
  },
  {
   "cell_type": "code",
   "execution_count": 71,
   "id": "bcf18856-fe12-4d98-b49b-c05f762ac966",
   "metadata": {},
   "outputs": [
    {
     "name": "stdout",
     "output_type": "stream",
     "text": [
      "This function is in parent class.\n",
      "This function is in child 1.\n",
      "This function is in parent class.\n",
      "This function is in child 2.\n"
     ]
    }
   ],
   "source": [
    "#Parent class\n",
    "class Parent:\n",
    "\tdef func1(self):\n",
    "\t\tprint(\"This function is in parent class.\")\n",
    "\n",
    "#child class1\n",
    "class Child1(Parent):\n",
    "\tdef func2(self):\n",
    "\t\tprint(\"This function is in child 1.\")\n",
    "\n",
    "#child class2\n",
    "class Child2(Parent):\n",
    "\tdef func3(self):\n",
    "\t\tprint(\"This function is in child 2.\")\n",
    "\n",
    "object1 = Child1()\n",
    "object2 = Child2()\n",
    "object1.func1()\n",
    "object1.func2()\n",
    "object2.func1()\n",
    "object2.func3()\n"
   ]
  },
  {
   "cell_type": "markdown",
   "id": "951d51e0-cde4-4a31-8e84-e38feb830bce",
   "metadata": {},
   "source": [
    "#Hybrid Inheritance"
   ]
  },
  {
   "cell_type": "code",
   "execution_count": 72,
   "id": "4518624f-f82f-4c2d-89c4-c6d72026bcb3",
   "metadata": {},
   "outputs": [
    {
     "name": "stdout",
     "output_type": "stream",
     "text": [
      "This function is in school.\n",
      "This function is in student 1. \n"
     ]
    }
   ],
   "source": [
    "class School:\n",
    "\tdef func1(self):\n",
    "\t\tprint(\"This function is in school.\")\n",
    "\n",
    "class Student1(School):\n",
    "\tdef func2(self):\n",
    "\t\tprint(\"This function is in student 1. \")\n",
    "\n",
    "class Student2(School):\n",
    "\tdef func3(self):\n",
    "\t\tprint(\"This function is in student 2.\")\n",
    "\n",
    "class Student3(Student1, School):\n",
    "\tdef func4(self):\n",
    "\t\tprint(\"This function is in student 3.\")\n",
    "\n",
    "\n",
    "object = Student3()\n",
    "object.func1()\n",
    "object.func2()\n"
   ]
  },
  {
   "cell_type": "code",
   "execution_count": null,
   "id": "ccb13082-86b7-4704-9737-1dce7811db4b",
   "metadata": {},
   "outputs": [],
   "source": []
  }
 ],
 "metadata": {
  "kernelspec": {
   "display_name": "Python 3 (ipykernel)",
   "language": "python",
   "name": "python3"
  },
  "language_info": {
   "codemirror_mode": {
    "name": "ipython",
    "version": 3
   },
   "file_extension": ".py",
   "mimetype": "text/x-python",
   "name": "python",
   "nbconvert_exporter": "python",
   "pygments_lexer": "ipython3",
   "version": "3.10.8"
  }
 },
 "nbformat": 4,
 "nbformat_minor": 5
}
